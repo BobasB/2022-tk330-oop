{
 "cells": [
  {
   "cell_type": "markdown",
   "metadata": {},
   "source": [
    "## Знайомимось з основними типами даних\n",
    "### Прості типи даних"
   ]
  },
  {
   "cell_type": "code",
   "execution_count": 16,
   "metadata": {},
   "outputs": [
    {
     "name": "stdout",
     "output_type": "stream",
     "text": [
      "1 Буде виведено на екран: це є стрічка 1 2.5 Кінець виводу\n",
      "2 Буде виведено на екран: це є стрічка 1 2.5 Кінець виводу\n",
      "3 Буде виведено на екран: це є стрічка 1 2.5 Кінець виводу\n",
      "4 Буде виведено на екран: це є стрічка 1 2.5 Кінець виводу\n",
      "Це є стрічка <class 'str'>\n",
      "Це був оригінал це є стрічка Це вже модифікована стрічка Це є стрічка\n"
     ]
    }
   ],
   "source": [
    "str_1 = \"це є стрічка\"\n",
    "int_1 = 1\n",
    "float_1 = 2.5\n",
    "\n",
    "print(\"1 Буде виведено на екран:\", str_1, int_1, float_1, \"Кінець виводу\")\n",
    "\n",
    "print(\"2 Буде виведено на екран: \" + str_1 + \" \" + str(int_1) + \" \" + str(float_1) + \" Кінець виводу\")\n",
    "\n",
    "print(\"3 Буде виведено на екран: {1} {2} {3} {0}\".format(\"Кінець виводу\", str_1, int_1, float_1))\n",
    "\n",
    "print(f\"4 Буде виведено на екран: {str_1} {int_1} {float_1} Кінець виводу\")\n",
    "\n",
    "print(f\"Це є стрічка {type(str_1)}\")\n",
    "str_2 = str_1.capitalize()\n",
    "print(f\"Це був оригінал {str_1} Це вже модифікована стрічка {str_2}\")"
   ]
  },
  {
   "cell_type": "markdown",
   "metadata": {},
   "source": [
    "### практикуємось з комплексними типами даних"
   ]
  },
  {
   "cell_type": "code",
   "execution_count": 30,
   "metadata": {},
   "outputs": [
    {
     "name": "stdout",
     "output_type": "stream",
     "text": [
      "Розглядаємо тип даних <class 'list'>\n",
      "Тут містяться елементи ['Sting', 15, 1.2, 'abc', [1, 2], '!!!']\n",
      "Значення abc знаходиться на позиції 3 Як це круто !!!\n",
      "Елементи тюпла ('Sting', 15, 1.2, 'abc', [1, 2], '!!!'), та його нульовий елемент Sting\n",
      "Перетворення на ліст ['Sting', 15, 1.2, 'abc', [1, 2], '!!!', 'Додаток']\n"
     ]
    }
   ],
   "source": [
    "ll = [\"Sting\", 15, 1.2, \"abc\", [1, 2], \"!!!\"]\n",
    "print(f\"Розглядаємо тип даних {type(ll)}\")\n",
    "\n",
    "print(f\"Тут містяться елементи {ll}\")\n",
    "\n",
    "print(f\"Значення {ll[3]} знаходиться на позиції\", ll.index(\"abc\"), f\"Як це круто {ll[-1]}\")\n",
    "\n",
    "tt = tuple(ll)\n",
    "\n",
    "print(f\"Елементи тюпла {tt}, та його нульовий елемент {tt[0]}\")\n",
    "\n",
    "lt = list(tt)\n",
    "lt.append('Додаток')\n",
    "\n",
    "print(f\"Перетворення на ліст {lt}\")"
   ]
  },
  {
   "cell_type": "code",
   "execution_count": 39,
   "metadata": {},
   "outputs": [
    {
     "name": "stdout",
     "output_type": "stream",
     "text": [
      "Це є сет {1.2, 'abc', 'Sting', '!!!', 15}\n",
      "Це є словник {'name': 'Bohdan', 'my_Age': 33, 'nn': ['aaa', 1], 'dd': {'abc': 'my_Age'}}\n"
     ]
    }
   ],
   "source": [
    "ss = {\"Sting\", 15, 15, 15, 1.2, \"abc\", \"!!!\", \"Sting\"}\n",
    "\n",
    "print(f\"Це є сет {ss}\")\n",
    "\n",
    "age = \"my_Age\"\n",
    "dd = {\"name\": \"Bohdan\", age: 33, \"nn\": [\"aaa\", 1], \"dd\": {\"abc\": age}}\n",
    "print(f\"Це є словник {dd}\")"
   ]
  },
  {
   "cell_type": "markdown",
   "metadata": {},
   "source": [
    "### Знайомимось з Костантами"
   ]
  },
  {
   "cell_type": "code",
   "execution_count": 42,
   "metadata": {},
   "outputs": [
    {
     "name": "stdout",
     "output_type": "stream",
     "text": [
      "Перша константа False\n",
      "False не є те саме що і константа False\n"
     ]
    }
   ],
   "source": [
    "print(\"Перша константа\", False)\n",
    "Falses = \"False\"\n",
    "print(f\"{Falses} не є те саме що і константа {False}\")"
   ]
  },
  {
   "cell_type": "markdown",
   "metadata": {},
   "source": [
    "### РОБОТА З ВБУДОВАНИМИ ФУНКЦІЯМИ"
   ]
  },
  {
   "cell_type": "code",
   "execution_count": 46,
   "metadata": {},
   "outputs": [
    {
     "name": "stdout",
     "output_type": "stream",
     "text": [
      "12.5 є рівним 12.5\n",
      "Знаходимо максимальну величину в ['aa', 'sdfsd'] дорівнює sdfsd\n"
     ]
    }
   ],
   "source": [
    "print(abs(-12.5), f\"є рівним {abs(12.5)}\")\n",
    "test = [\"aa\", \"sdfsd\"]\n",
    "print(f\"Знаходимо максимальну величину в {test} дорівнює {max(test)}\")"
   ]
  }
 ],
 "metadata": {
  "kernelspec": {
   "display_name": "Python 3.10.6 64-bit",
   "language": "python",
   "name": "python3"
  },
  "language_info": {
   "codemirror_mode": {
    "name": "ipython",
    "version": 3
   },
   "file_extension": ".py",
   "mimetype": "text/x-python",
   "name": "python",
   "nbconvert_exporter": "python",
   "pygments_lexer": "ipython3",
   "version": "3.10.6"
  },
  "orig_nbformat": 4,
  "vscode": {
   "interpreter": {
    "hash": "a42ccb73e7d9bfdf27e036f1d2b8b681e55fc0743cc5586bc2474d4a60f4b886"
   }
  }
 },
 "nbformat": 4,
 "nbformat_minor": 2
}
