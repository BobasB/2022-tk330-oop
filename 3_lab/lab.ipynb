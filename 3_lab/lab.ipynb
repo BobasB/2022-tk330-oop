{
 "cells": [
  {
   "cell_type": "markdown",
   "metadata": {},
   "source": [
    "### Створюємо базовий клас"
   ]
  },
  {
   "cell_type": "code",
   "execution_count": 19,
   "metadata": {},
   "outputs": [
    {
     "name": "stdout",
     "output_type": "stream",
     "text": [
      "<class '__main__.MyAnimals'>\n",
      "<class 'int'>\n"
     ]
    }
   ],
   "source": [
    "class MyAnimals:\n",
    "    pass\n",
    "\n",
    "a = MyAnimals()\n",
    "print(type(a))\n",
    "\n",
    "b = 1\n",
    "print(type(b))"
   ]
  },
  {
   "cell_type": "markdown",
   "metadata": {},
   "source": [
    "### Порівняння простих даних з обєктами"
   ]
  },
  {
   "cell_type": "code",
   "execution_count": 20,
   "metadata": {},
   "outputs": [
    {
     "name": "stdout",
     "output_type": "stream",
     "text": [
      "В мене є тваринка Кіт яку звати Мурка які 5 років\n",
      "В мене є тваринка Рибки яку звати Неони які 1 років\n",
      "В мене є тваринка Кіт яку звати Мурка які 5 років\n",
      "В мене є тваринка Собака яку звати Рекс які 2 років\n",
      "Мурка\n",
      "Я переіменував свою тваринку на Машка, вона важить 10 кг\n",
      "Моя тваринка Неони, вона важить 0 кг\n"
     ]
    }
   ],
   "source": [
    "animals = [\"Рибки\", \"Кіт\", \"Собака\"]\n",
    "name = [\"Неони\", \"Мурка\", \"Рекс\"]\n",
    "age = [1, 5, 2]\n",
    "\n",
    "print(f\"В мене є тваринка {animals[1]} яку звати {name[1]} які {age[1]} років\")\n",
    "\n",
    "class MyAnimals:\n",
    "    def __init__(self, animals, name, age, mass = None) -> None:\n",
    "        print(f\"В мене є тваринка {animals} яку звати {name} які {age} років\")\n",
    "        self.animals = animals\n",
    "        self.name = name\n",
    "        self.age = age\n",
    "        self.mass = 0 if mass==None else mass\n",
    "\n",
    "\n",
    "a1 = MyAnimals(\"Рибки\", \"Неони\", 1)\n",
    "a2 = MyAnimals(\"Кіт\", \"Мурка\", 5, 10)\n",
    "a3 = MyAnimals(animals=\"Собака\", name=\"Рекс\", age=2)\n",
    "\n",
    "print(a2.name)\n",
    "a2.name = \"Машка\"\n",
    "print(f\"Я переіменував свою тваринку на {a2.name}, вона важить {a2.mass} кг\")\n",
    "\n",
    "print(f\"Моя тваринка {a1.name}, вона важить {a1.mass} кг\")\n"
   ]
  },
  {
   "cell_type": "markdown",
   "metadata": {},
   "source": [
    "### Методи класу"
   ]
  },
  {
   "cell_type": "code",
   "execution_count": 21,
   "metadata": {},
   "outputs": [
    {
     "name": "stdout",
     "output_type": "stream",
     "text": [
      "В мене є тваринка Рибки яку звати Неони які 1 років\n",
      "В мене є тваринка Кіт яку звати Мурка які 5 років\n",
      "В мене є тваринка Собака яку звати Рекс які 2 років\n",
      "Тваринка Рибки: Моя Тваринка Рибки не розмовляє\n",
      "Тваринка Собака: Моя Тваринка Собака говорить Гавв\n",
      "Рибки живе зі мною 1 років\n",
      "Моя Тваринка Рибки прожила за мною один рік\n",
      "Рибки живе зі мною 2 років\n",
      "2\n"
     ]
    }
   ],
   "source": [
    "class MyAnimals:\n",
    "    def __init__(self, animals, name, age, mass = None) -> None:\n",
    "        print(f\"В мене є тваринка {animals} яку звати {name} які {age} років\")\n",
    "        self.animals = animals\n",
    "        self.name = name\n",
    "        self.age = age\n",
    "        self.mass = 0 if mass==None else mass\n",
    "    \n",
    "    def speak(self):\n",
    "        if self.animals == \"Кіт\":\n",
    "            return f\"Моя Тваринка {self.animals} говорить Мяууу\"\n",
    "        elif self.animals == \"Собака\":\n",
    "            return f\"Моя Тваринка {self.animals} говорить Гавв\"\n",
    "        else:\n",
    "            return f\"Моя Тваринка {self.animals} не розмовляє\"\n",
    "    \n",
    "    def add_one_year(self):\n",
    "        self.age += 1\n",
    "        return f\"Моя Тваринка {self.animals} прожила за мною один рік\"\n",
    "\n",
    "a1 = MyAnimals(\"Рибки\", \"Неони\", 1)\n",
    "a2 = MyAnimals(\"Кіт\", \"Мурка\", 5, 10)\n",
    "a3 = MyAnimals(animals=\"Собака\", name=\"Рекс\", age=2)\n",
    "\n",
    "print(f\"Тваринка {a1.animals}:\", a1.speak())\n",
    "\n",
    "print(f\"Тваринка {a3.animals}:\", a3.speak())\n",
    "\n",
    "\n",
    "print(f\"{a1.animals} живе зі мною {a1.age} років\")\n",
    "print(a1.add_one_year())\n",
    "print(f\"{a1.animals} живе зі мною {a1.age} років\")\n",
    "\n",
    "print(a1.age)\n"
   ]
  },
  {
   "cell_type": "markdown",
   "metadata": {},
   "source": [
    "### Змінні класу, глобальні змінні над всіма обєктами"
   ]
  },
  {
   "cell_type": "code",
   "execution_count": 22,
   "metadata": {},
   "outputs": [
    {
     "name": "stdout",
     "output_type": "stream",
     "text": [
      "В мене зараз є тваринки [], їх кількість 0\n",
      "В мене є тваринка Рибки яку звати Неони які 1 років\n",
      "В мене є тваринка Рибки яку звати Гупії які 1 років\n",
      "В мене є тваринка Рибки яку звати Соміки які 1 років\n",
      "В мене є тваринка Кіт яку звати Мурка які 5 років\n",
      "В мене зараз є тваринки ['Кіт', 'Рибки'], їх кількість 4\n",
      "Я доступаюсь до змінної класу з обєкта {'Кіт', 'Рибки'}\n",
      "Я доступаюсь до змінної класу з обєкта {'Собака'} та з класу {'Кіт', 'Рибки'}\n"
     ]
    }
   ],
   "source": [
    "class MyAnimals:\n",
    "    total_animals = 0\n",
    "    total_animal_types = set()\n",
    "\n",
    "    def __init__(self, animals, name, age, mass = None) -> None:\n",
    "        print(f\"В мене є тваринка {animals} яку звати {name} які {age} років\")\n",
    "        self.animals = animals\n",
    "        self.name = name\n",
    "        self.age = age\n",
    "        self.mass = 0 if mass==None else mass\n",
    "        MyAnimals.total_animal_types.add(animals)\n",
    "        MyAnimals.total_animals += 1\n",
    "\n",
    "print(f\"В мене зараз є тваринки {list(MyAnimals.total_animal_types)}, їх кількість {MyAnimals.total_animals}\")\n",
    "a1 = MyAnimals(\"Рибки\", \"Неони\", 1)\n",
    "MyAnimals(\"Рибки\", \"Гупії\", 1)\n",
    "MyAnimals(\"Рибки\", \"Соміки\", 1)\n",
    "MyAnimals(\"Кіт\", \"Мурка\", 5, 10)\n",
    "print(f\"В мене зараз є тваринки {list(MyAnimals.total_animal_types)}, їх кількість {MyAnimals.total_animals}\")\n",
    "\n",
    "print(f\"Я доступаюсь до змінної класу з обєкта {a1.total_animal_types}\")\n",
    "a1.total_animal_types = {\"Собака\"} # я зробив змінну класу атрибутом обєкту\n",
    "print(f\"Я доступаюсь до змінної класу з обєкта {a1.total_animal_types} та з класу {MyAnimals.total_animal_types}\")"
   ]
  },
  {
   "cell_type": "markdown",
   "metadata": {},
   "source": [
    "### Статичні методи та змінна self"
   ]
  },
  {
   "cell_type": "code",
   "execution_count": 23,
   "metadata": {},
   "outputs": [
    {
     "name": "stdout",
     "output_type": "stream",
     "text": [
      "Ми кличемо нашу тваринку за допомогою статичного методу з обєкту |Тваринка біжить до нас| та з класу |Тваринка біжить до нас|\n",
      "Викликаю метод з обєкту |Моя Тваринка Рибки прожила за мною один рік| та з класу |Моя Тваринка Рибки прожила за мною один рік|\n"
     ]
    }
   ],
   "source": [
    "class MyAnimals:\n",
    "    def __init__(self, animals, name, age) -> None:\n",
    "        self.animals = animals\n",
    "        self.name = name\n",
    "        self.age = age\n",
    "    \n",
    "    def add_one_year(self):\n",
    "        self.age += 1\n",
    "        return f\"Моя Тваринка {self.animals} прожила за мною один рік\"\n",
    "\n",
    "    @staticmethod\n",
    "    def call_pet():\n",
    "        return \"Тваринка біжить до нас\"\n",
    "\n",
    "\n",
    "a1 = MyAnimals(\"Рибки\", \"Гупії\", 1)\n",
    "a2 = MyAnimals(\"Кіт\", \"Мурка\", 5)\n",
    "\n",
    "print(f\"Ми кличемо нашу тваринку за допомогою статичного методу з обєкту |{a1.call_pet()}| та з класу |{MyAnimals.call_pet()}|\")\n",
    "\n",
    "print(f\"Викликаю метод з обєкту |{a1.add_one_year()}| та з класу |{MyAnimals.add_one_year(a1)}|\")"
   ]
  },
  {
   "cell_type": "markdown",
   "metadata": {},
   "source": [
    "### Робота з properties"
   ]
  },
  {
   "cell_type": "code",
   "execution_count": 24,
   "metadata": {},
   "outputs": [
    {
     "name": "stdout",
     "output_type": "stream",
     "text": [
      "Мій Кіт будже зі мною до 2037 року\n",
      "Мій Кіт будже зі мною до 2036 року\n"
     ]
    }
   ],
   "source": [
    "from datetime import datetime\n",
    "class MyAnimals:\n",
    "    max_age = 20\n",
    "    def __init__(self, animals, name, age) -> None:\n",
    "        self.animals = animals\n",
    "        self.name = name\n",
    "        self.age = age\n",
    "    \n",
    "    @property\n",
    "    def live_untill(self):\n",
    "        return datetime.today().year - self.age + self.max_age\n",
    "    \n",
    "    def add_one_year(self):\n",
    "        self.age += 1\n",
    "        return f\"Моя Тваринка {self.animals} прожила за мною один рік\"\n",
    "\n",
    "\n",
    "a1 = MyAnimals(\"Кіт\", \"Мурка\", 5)\n",
    "print(f\"Мій {a1.animals} будже зі мною до {a1.live_untill} року\")\n",
    "a1.add_one_year()\n",
    "print(f\"Мій {a1.animals} будже зі мною до {a1.live_untill} року\")"
   ]
  },
  {
   "cell_type": "markdown",
   "metadata": {},
   "source": [
    "### Методи Класу"
   ]
  },
  {
   "cell_type": "code",
   "execution_count": 25,
   "metadata": {},
   "outputs": [
    {
     "name": "stdout",
     "output_type": "stream",
     "text": [
      "Мій Кіт, звати Мурка, має 5 років\n",
      "Мій Собака, звати Рекс, має 2 років\n",
      "Загальна кількість обєктів 2 а створених з csv формату 1\n"
     ]
    }
   ],
   "source": [
    "class MyAnimals:\n",
    "    total_csv = int(0)\n",
    "    total_objects = int(0)\n",
    "    def __init__(self, animals, name, age) -> None:\n",
    "        self.animals = animals\n",
    "        self.name = name\n",
    "        self.age = age\n",
    "        MyAnimals.total_objects += 1\n",
    "\n",
    "    @classmethod\n",
    "    def from_csv(cls, csv_data:str):\n",
    "        cls.total_csv += 1\n",
    "        animal, name, age = csv_data.split(\",\")\n",
    "        return cls(animal, name, age)\n",
    "\n",
    "a1 = MyAnimals.from_csv(\"Кіт,Мурка,5\")\n",
    "a2 = MyAnimals(\"Собака\", \"Рекс\", 2)\n",
    "\n",
    "print(f\"Мій {a1.animals}, звати {a1.name}, має {a1.age} років\")\n",
    "print(f\"Мій {a2.animals}, звати {a2.name}, має {a2.age} років\")\n",
    "print(f\"Загальна кількість обєктів {MyAnimals.total_objects} а створених з csv формату {MyAnimals.total_csv}\")"
   ]
  }
 ],
 "metadata": {
  "kernelspec": {
   "display_name": "Python 3.10.6 64-bit",
   "language": "python",
   "name": "python3"
  },
  "language_info": {
   "codemirror_mode": {
    "name": "ipython",
    "version": 3
   },
   "file_extension": ".py",
   "mimetype": "text/x-python",
   "name": "python",
   "nbconvert_exporter": "python",
   "pygments_lexer": "ipython3",
   "version": "3.10.6"
  },
  "orig_nbformat": 4,
  "vscode": {
   "interpreter": {
    "hash": "a42ccb73e7d9bfdf27e036f1d2b8b681e55fc0743cc5586bc2474d4a60f4b886"
   }
  }
 },
 "nbformat": 4,
 "nbformat_minor": 2
}
